{
 "cells": [
  {
   "cell_type": "code",
   "execution_count": 2,
   "metadata": {},
   "outputs": [],
   "source": [
    "import numpy as np \n",
    "import pandas as pd \n",
    "import os\n",
    "import matplotlib.pyplot as plt\n",
    "\n",
    "os.chdir(\"/Users/jacobrichards/Desktop/DS_DA_Projects/90+_DaysPastDue/90+DPD_files\")\n",
    "\n",
    "train = pd.read_csv(\"FITB_train.csv\", na_values=[\"\", \"NA\"])\n",
    "\n",
    "test = pd.read_csv(\"FITB_test.csv\", na_values=[\"\", \"NA\"])"
   ]
  },
  {
   "cell_type": "markdown",
   "metadata": {},
   "source": [
    "check the distributions"
   ]
  },
  {
   "cell_type": "code",
   "execution_count": null,
   "metadata": {},
   "outputs": [],
   "source": [
    "\n",
    "import pandas as pd\n",
    "import matplotlib.pyplot as plt\n",
    "\n",
    "features = [\"feature_1\", \"feature_2\", \"feature_3\", \"feature_4\"]\n",
    "\n",
    "plt.figure(figsize=(10, 6), dpi=300)  # High-quality figure\n",
    "\n",
    "# Create boxplot\n",
    "train[features].boxplot(grid=False, vert=False)\n",
    "plt.title(\"Boxplots of Features\")\n",
    "plt.xlabel(\"Value\")\n",
    "plt.ylabel(\"Features\")\n",
    "plt.show()"
   ]
  },
  {
   "cell_type": "markdown",
   "metadata": {},
   "source": [
    "feature 3 has an outragious right tail."
   ]
  },
  {
   "cell_type": "code",
   "execution_count": null,
   "metadata": {},
   "outputs": [],
   "source": [
    "import pandas as pd\n",
    "import seaborn as sns\n",
    "import matplotlib.pyplot as plt\n",
    "\n",
    "features = [\"feature_1\", \"feature_2\", \"feature_3\", \"feature_4\"]\n",
    "\n",
    "# Convert data to long format for Seaborn\n",
    "data_long = train[features].melt(var_name=\"Feature\", value_name=\"Value\")\n",
    "\n",
    "plt.figure(figsize=(10, 6), dpi=300)  # High-quality figure\n",
    "sns.violinplot(x=\"Value\", y=\"Feature\", data=data_long, scale=\"width\")\n",
    "plt.title(\"Violin Plots of Features\")\n",
    "plt.xlabel(\"Value\")\n",
    "plt.ylabel(\"Features\")\n",
    "plt.show()"
   ]
  },
  {
   "cell_type": "markdown",
   "metadata": {},
   "source": [
    "yep, we gotta take care of feature 3 for training"
   ]
  },
  {
   "cell_type": "code",
   "execution_count": null,
   "metadata": {},
   "outputs": [],
   "source": [
    "threshold = train['feature_3'].quantile(0.99)\n",
    "\n",
    "train.loc[train['feature_3'] > threshold, 'feature_3'] = pd.NA\n",
    "\n",
    "print(train['feature_3'])"
   ]
  },
  {
   "cell_type": "code",
   "execution_count": null,
   "metadata": {},
   "outputs": [],
   "source": [
    "features = [\"feature_1\", \"feature_2\", \"feature_3\", \"feature_4\"]\n",
    "\n",
    "# Convert data to long format for Seaborn\n",
    "data_long = train[features].melt(var_name=\"Feature\", value_name=\"Value\")\n",
    "\n",
    "plt.figure(figsize=(10, 6), dpi=300)  # High-quality figure\n",
    "sns.violinplot(x=\"Value\", y=\"Feature\", data=data_long, scale=\"width\")\n",
    "plt.title(\"Violin Plots of Features\")\n",
    "plt.xlabel(\"Value\")\n",
    "plt.ylabel(\"Features\")\n",
    "plt.show()"
   ]
  },
  {
   "cell_type": "markdown",
   "metadata": {},
   "source": [
    "this is acceptable, replace the missing values with median "
   ]
  },
  {
   "cell_type": "code",
   "execution_count": null,
   "metadata": {},
   "outputs": [],
   "source": [
    "median_value = train['feature_3'].median()\n",
    "\n",
    "train['feature_3'].fillna(median_value, inplace=True)\n",
    "\n",
    "train.rename(columns={'feature_3': 'feature_3_impute'}, inplace=True)\n",
    "\n",
    "\n",
    "\n",
    "median_value = test['feature_3'].median()\n",
    "\n",
    "test['feature_3'].fillna(median_value, inplace=True)\n",
    "\n",
    "test.rename(columns={'feature_3': 'feature_3_impute'}, inplace=True)\n"
   ]
  },
  {
   "cell_type": "markdown",
   "metadata": {},
   "source": [
    "sort by ID and date so that if feature 2 is missing we can replace it with the next year or the previous years value"
   ]
  },
  {
   "cell_type": "code",
   "execution_count": null,
   "metadata": {},
   "outputs": [],
   "source": [
    "train['date'] = pd.to_datetime(train['date']).dt.year\n",
    "test['date'] = pd.to_datetime(test['date']).dt.year\n",
    "\n",
    "def impute_feature_2(df):\n",
    "    df = df.sort_values(by=['id', 'date'])  \n",
    "    df['feature_2'] = df['feature_2'].fillna(method='bfill') \n",
    "    df['feature_2'] = df['feature_2'].fillna(method='ffill') \n",
    "    return df\n",
    "\n",
    "train = train.groupby('id', group_keys=False).apply(impute_feature_2)\n",
    "test = test.groupby('id', group_keys=False).apply(impute_feature_2)\n",
    "\n",
    "train.rename(columns={'feature_2': 'feature_2_impute'}, inplace=True)\n",
    "test.rename(columns={'feature_2': 'feature_2_impute'}, inplace=True)\n",
    "\n",
    "train = train.dropna(subset=['feature_2_impute'])\n",
    "test = test.dropna(subset=['feature_2_impute'])\n",
    "\n",
    "display(train.head())"
   ]
  },
  {
   "cell_type": "markdown",
   "metadata": {},
   "source": [
    "Normalize our features for the model "
   ]
  },
  {
   "cell_type": "code",
   "execution_count": null,
   "metadata": {},
   "outputs": [],
   "source": [
    "\n",
    "train.rename(columns={\n",
    "    'feature_1': 'feature_1_standard',\n",
    "    'feature_2_impute': 'feature_2_standard',\n",
    "    'feature_3_impute': 'feature_3_standard',\n",
    "    'feature_4': 'feature_4_standard'\n",
    "}, inplace=True)\n",
    "\n",
    "train['y'] = train['y'].apply(lambda x: 1 if x == \"90+DPD\" else 0 if x == \"active\" else x)\n",
    "test['y'] = test['y'].apply(lambda x: 1 if x == \"90+DPD\" else 0 if x == \"active\" else x)\n",
    "\n",
    "display(train)\n",
    "display(test)\n",
    "\n",
    "\n",
    "import pandas as pd\n",
    "import matplotlib.pyplot as plt\n",
    "import seaborn as sns\n",
    "\n",
    "def plot_proportion_positive(df, continuous_var, categorical_var='y', positive_value=1, bins=10):\n",
    "    # Create bins for the continuous variable\n",
    "    df['binned'] = pd.cut(df[continuous_var], bins=bins)\n",
    "\n",
    "    # Group by the binned variable and the category to get counts\n",
    "    grouped = df.groupby(['binned', categorical_var]).size().reset_index(name='count')\n",
    "    \n",
    "    # Pivot so that each bin is a row and categories form columns\n",
    "    # This will give something like:\n",
    "    # binned          0    1\n",
    "    # (x0, x1]       x    y\n",
    "    pivot = grouped.pivot(index='binned', columns=categorical_var, values='count').fillna(0)\n",
    "\n",
    "    # Calculate total and positive counts for each bin\n",
    "    total_count = pivot.sum(axis=1)\n",
    "    positive_count = pivot[positive_value]\n",
    "    \n",
    "    # Compute the proportion of positive outcomes\n",
    "    proportion_positive = positive_count / total_count\n",
    "\n",
    "    # Create a DataFrame for plotting\n",
    "    # Extract bin centers from the intervals\n",
    "    plot_df = pd.DataFrame({\n",
    "        'bin_center': pivot.index.map(lambda interval: interval.mid),\n",
    "        'proportion_positive': proportion_positive\n",
    "    })\n",
    "\n",
    "    # Plot the proportion of positive outcomes by bin\n",
    "    plt.figure(figsize=(10, 6))\n",
    "    sns.lineplot(x='bin_center', y='proportion_positive', data=plot_df)\n",
    "    plt.title(f'Proportion of {categorical_var}={positive_value} by Binned {continuous_var}')\n",
    "    plt.xlabel(f\"{continuous_var} (binned)\")\n",
    "    plt.ylabel(f\"Proportion {categorical_var}={positive_value}\")\n",
    "    plt.ylim(0, 1)  # proportions range from 0 to 1\n",
    "    plt.show()\n",
    "\n",
    "\n",
    "plot_proportion_positive(train, 'feature_1_standard', 'y', positive_value=1, bins=10)\n",
    "plot_proportion_positive(train, 'feature_2_standard', 'y', positive_value=1, bins=10)\n",
    "plot_proportion_positive(train, 'feature_3_standard', 'y', positive_value=1, bins=10)\n",
    "plot_proportion_positive(train, 'feature_4_standard', 'y', positive_value=1, bins=10)\n",
    "\n"
   ]
  },
  {
   "cell_type": "code",
   "execution_count": null,
   "metadata": {},
   "outputs": [],
   "source": [
    "features = ['feature_1_standard', 'feature_2_standard', 'feature_3_standard', 'feature_4_standard']\n",
    "\n",
    "\n",
    "for feature in features:\n",
    "    train[feature] = (train[feature] - train[feature].mean(skipna=True)) / train[feature].std(skipna=True)\n",
    "\n",
    "\n",
    "train.rename(columns={\n",
    "    'feature_1_standard': 'feature_1_standard',\n",
    "    'feature_2_standard': 'feature_2_standard',\n",
    "    'feature_3_standard': 'feature_3_standard',\n",
    "    'feature_4_standard': 'feature_4_standard'\n",
    "}, inplace=True)\n",
    "\n",
    "\n",
    "for feature in features:\n",
    "    test[feature] = (test[feature] - test[feature].mean(skipna=True)) / test[feature].std(skipna=True)\n",
    "\n",
    "\n",
    "test.rename(columns={\n",
    "    'feature_1_standard': 'feature_1_standard',\n",
    "    'feature_2_standard': 'feature_2_standard',\n",
    "    'feature_3_standard': 'feature_3_standard',\n",
    "    'feature_4_standard': 'feature_4_standard'\n",
    "}, inplace=True)\n",
    "\n",
    "\n",
    "import pandas as pd\n",
    "import matplotlib.pyplot as plt\n",
    "import seaborn as sns\n",
    "\n",
    "def plot_proportion_positive(df, continuous_var, categorical_var='y', positive_value=1, bins=50):\n",
    "    # Create bins for the continuous variable\n",
    "    df['binned'] = pd.cut(df[continuous_var], bins=bins)\n",
    "\n",
    "    # Group by the binned variable and the category to get counts\n",
    "    grouped = df.groupby(['binned', categorical_var]).size().reset_index(name='count')\n",
    "    \n",
    "    # Pivot so that each bin is a row and categories form columns\n",
    "    pivot = grouped.pivot(index='binned', columns=categorical_var, values='count').fillna(0)\n",
    "\n",
    "    # Calculate total and positive counts for each bin\n",
    "    total_count = pivot.sum(axis=1)\n",
    "    positive_count = pivot[positive_value]\n",
    "    \n",
    "    # Compute the proportion of positive outcomes\n",
    "    proportion_positive = positive_count / total_count\n",
    "\n",
    "    # Create a DataFrame for plotting\n",
    "    plot_df = pd.DataFrame({\n",
    "        'bin_center': pivot.index.map(lambda interval: interval.mid),\n",
    "        'proportion_positive': proportion_positive\n",
    "    })\n",
    "\n",
    "    # Plot the proportion of positive outcomes by bin with points\n",
    "    plt.figure(figsize=(10, 6))\n",
    "    sns.scatterplot(x='bin_center', y='proportion_positive', data=plot_df, color='blue', s=50)\n",
    "\n",
    "    # Add a smoother line using lowess\n",
    "    sns.regplot(x='bin_center', y='proportion_positive', data=plot_df, \n",
    "                scatter=False, lowess=True, color='red', line_kws={'lw':2})\n",
    "\n",
    "    plt.title(f'Proportion of {categorical_var}={positive_value} by Binned {continuous_var}')\n",
    "    plt.xlabel(f\"{continuous_var} (binned)\")\n",
    "    plt.ylabel(f\"Proportion {categorical_var}={positive_value}\")\n",
    "    plt.ylim(0, 1)\n",
    "    plt.show()\n",
    "\n",
    "\n",
    "plot_proportion_positive(train, 'feature_1_standard', 'y', positive_value=1, bins=50)\n",
    "plot_proportion_positive(train, 'feature_2_standard', 'y', positive_value=1, bins=50)\n",
    "plot_proportion_positive(train, 'feature_3_standard', 'y', positive_value=1, bins=50)\n",
    "plot_proportion_positive(train, 'feature_4_standard', 'y', positive_value=1, bins=50)"
   ]
  },
  {
   "cell_type": "markdown",
   "metadata": {},
   "source": [
    "build a logistic regression model "
   ]
  },
  {
   "cell_type": "code",
   "execution_count": null,
   "metadata": {},
   "outputs": [],
   "source": [
    "from sklearn.model_selection import train_test_split\n",
    "from sklearn.linear_model import LogisticRegression\n",
    "from sklearn.metrics import classification_report\n",
    "\n",
    "\n",
    "x_train = train[['feature_1_standard', 'feature_2_standard', 'feature_3_standard', 'feature_4_standard']] #training predictor\n",
    "\n",
    "y_train = train['y'] # training response \n",
    "\n",
    "x_test = test[['feature_1_standard', 'feature_2_standard', 'feature_3_standard', 'feature_4_standard']] #test predictor\n",
    "\n",
    "y_test = test[['y']] # test response \n",
    "\n",
    "model = LogisticRegression()\n",
    "model.fit(x_train, y_train) # train the model on predictor and response from training data \n",
    "\n",
    "\n",
    "y_pred = model.predict(x_test) # evaluate model on test predictors for predicted binary outcome \n",
    "\n",
    "y_pred_prob = model.predict_proba(x_test)  # evaluate model on test data for coresponding probabilities of predicted outcome \n",
    "\n",
    "test['prob'] = y_pred_prob[:,1] # appending the probability posative outcome column to test for evaluation of ROC curve \n",
    "\n",
    "\n",
    "print(classification_report(y_test, y_pred)) # compair actual test response with predicted test response "
   ]
  },
  {
   "cell_type": "code",
   "execution_count": null,
   "metadata": {},
   "outputs": [],
   "source": [
    "import matplotlib.pyplot as plt\n",
    "from sklearn.metrics import roc_curve, auc\n",
    "import numpy as np\n",
    "\n",
    "\n",
    "fpr, tpr, thresholds = roc_curve(test['y'], test['prob'])\n",
    "\n",
    "roc_auc = auc(fpr, tpr)\n",
    "\n",
    "plt.figure(figsize=(10, 8))\n",
    "\n",
    "roc_curve = plt.plot(fpr, tpr)\n"
   ]
  },
  {
   "cell_type": "code",
   "execution_count": null,
   "metadata": {},
   "outputs": [],
   "source": [
    "import matplotlib.pyplot as plt\n",
    "from sklearn.metrics import roc_curve, auc\n",
    "import numpy as np\n",
    "\n",
    "# Assuming test['y'] is the ground truth labels and test['prob'] is the predicted probabilities\n",
    "fpr, tpr, thresholds = roc_curve(test['y'], test['prob'])\n",
    "\n",
    "# Calculate the AUC\n",
    "roc_auc = auc(fpr, tpr)\n",
    "\n",
    "# Plot the ROC curve\n",
    "plt.figure(figsize=(10, 8))\n",
    "plt.plot(fpr, tpr, label=f'ROC curve (AUC = {roc_auc:.2f})')\n",
    "plt.plot([0, 1], [0, 1], 'r--', label='Random guess')  # Add diagonal for random guessing\n",
    "plt.xlabel('False Positive Rate')\n",
    "plt.ylabel('True Positive Rate')\n",
    "plt.title('Receiver Operating Characteristic (ROC) Curve')\n",
    "plt.legend(loc='lower right')\n",
    "plt.grid()\n",
    "plt.show()"
   ]
  }
 ],
 "metadata": {
  "kernelspec": {
   "display_name": "base",
   "language": "python",
   "name": "python3"
  },
  "language_info": {
   "codemirror_mode": {
    "name": "ipython",
    "version": 3
   },
   "file_extension": ".py",
   "mimetype": "text/x-python",
   "name": "python",
   "nbconvert_exporter": "python",
   "pygments_lexer": "ipython3",
   "version": "3.12.2"
  }
 },
 "nbformat": 4,
 "nbformat_minor": 2
}
