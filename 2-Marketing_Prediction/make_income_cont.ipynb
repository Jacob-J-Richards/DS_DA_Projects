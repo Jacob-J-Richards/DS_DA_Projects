{
 "cells": [
  {
   "cell_type": "code",
   "execution_count": 108,
   "metadata": {},
   "outputs": [],
   "source": [
    "import numpy as np \n",
    "import pandas as pd \n",
    "import os\n",
    "import matplotlib.pyplot as plt\n",
    "\n",
    "os.chdir(\"/Users/jacobrichards/Desktop/DS_DA_Projects/2-Marketing_Prediction\")\n",
    "\n",
    "data = pd.read_csv(\"data.csv\", na_values=[\"\", \"NA\"])\n",
    "\n",
    "import warnings\n",
    "warnings.filterwarnings('ignore')\n",
    "\n",
    "plt.rcParams['figure.figsize'] = [8, 6]  # Default figure size\n",
    "plt.rcParams['figure.dpi'] = 100  # Controls display resolution"
   ]
  },
  {
   "cell_type": "code",
   "execution_count": 109,
   "metadata": {},
   "outputs": [
    {
     "name": "stdout",
     "output_type": "stream",
     "text": [
      "   id  age      dist       income gender marital_status  target\n",
      "0   1   73  4.371654    90-99,999      M              S       1\n",
      "1   2   89  1.582733  100-149,999      M            NaN       1\n",
      "2   3   85  1.223810    10-19,999      F              S       1\n",
      "3   4   76  2.962427    90-99,999      M              M       1\n",
      "4   5   76  2.594408    10-19,999      M              S       1\n"
     ]
    }
   ],
   "source": [
    "print(data.head())"
   ]
  },
  {
   "cell_type": "markdown",
   "metadata": {},
   "source": [
    "# prepare data"
   ]
  },
  {
   "cell_type": "code",
   "execution_count": 110,
   "metadata": {},
   "outputs": [],
   "source": [
    "import pandas as pd\n",
    "import numpy as np\n",
    "\n",
    "# Replace missing or empty values in columns 4, 5, 6 with \"unknown\"\n",
    "data.iloc[:, [3, 4, 5]] = data.iloc[:, [3, 4, 5]].applymap(lambda x: \"unknown\" if pd.isna(x) or x == \"\" else x)\n",
    "\n",
    "income_mapping = {\n",
    "    \"unknown\": 55000,\n",
    "    \"Under $10k\": 5000,\n",
    "    \"10-19,999\": 15000,\n",
    "    \"20-29,999\": 25000,\n",
    "    \"30-39,999\": 35000,\n",
    "    \"40-49,999\": 45000,\n",
    "    \"50-59,999\": 55000,\n",
    "    \"60-69,999\": 65000,\n",
    "    \"70-79,999\": 75000,\n",
    "    \"80-89,999\": 85000,\n",
    "    \"90-99,999\": 95000,\n",
    "    \"100-149,999\": 125000,\n",
    "    \"150 - 174,999\": 162500,\n",
    "    \"175 - 199,999\": 187500,\n",
    "    \"200 - 249,999\": 225000,\n",
    "    \"250k+\": 250000\n",
    "}\n",
    "data[\"income\"] = data[\"income\"].map(income_mapping).astype(int)\n",
    "\n",
    "# Replace gender with 1 for male, 0 for female, and 0 for unknown\n",
    "gender_mapping = {\"M\": 1, \"F\": 0, \"unknown\": 0}\n",
    "data[\"gender\"] = data[\"gender\"].map(gender_mapping).astype(int)\n",
    "\n",
    "# Replace marital_status with 1 for married, 0 for single, and 1 for unknown\n",
    "marital_status_mapping = {\"M\": 1, \"S\": 0, \"unknown\": 1}\n",
    "data[\"marital_status\"] = data[\"marital_status\"].map(marital_status_mapping).astype(int)\n",
    "\n",
    "# Convert target to categorical values (0 or 1)\n",
    "data[\"target\"] = data[\"target\"].astype(int)\n",
    "\n",
    "# Convert distance (dist) column to integer\n",
    "data[\"dist\"] = data[\"dist\"].astype(int)"
   ]
  },
  {
   "cell_type": "markdown",
   "metadata": {},
   "source": [
    "Male is 1 and female is 0, married is 1 and single is 0, finally, response is 1 and no response is 0. "
   ]
  },
  {
   "cell_type": "code",
   "execution_count": 111,
   "metadata": {},
   "outputs": [
    {
     "name": "stdout",
     "output_type": "stream",
     "text": [
      "   id  age  dist  income  gender  marital_status  target\n",
      "0   1   73     4   95000       1               0       1\n",
      "1   2   89     1  125000       1               1       1\n",
      "2   3   85     1   15000       0               0       1\n",
      "3   4   76     2   95000       1               1       1\n",
      "4   5   76     2   15000       1               0       1\n"
     ]
    }
   ],
   "source": [
    "print(data.head())"
   ]
  },
  {
   "cell_type": "code",
   "execution_count": 112,
   "metadata": {},
   "outputs": [
    {
     "name": "stdout",
     "output_type": "stream",
     "text": [
      "Proportion of Group that Responded\n",
      "          Single   Married\n",
      "Female  0.224093  0.219920\n",
      "Male    0.214156  0.304501\n"
     ]
    }
   ],
   "source": [
    "# Create contingency table for gender/marital status vs target\n",
    "predictors = pd.DataFrame({\n",
    "    'Single': [data[(data['gender'] == 0) & (data['marital_status'] == 0)]['target'].mean(),\n",
    "               data[(data['gender'] == 1) & (data['marital_status'] == 0)]['target'].mean()],\n",
    "    'Married': [data[(data['gender'] == 0) & (data['marital_status'] == 1)]['target'].mean(),\n",
    "                data[(data['gender'] == 1) & (data['marital_status'] == 1)]['target'].mean()]\n",
    "}, index=['Female', 'Male'])\n",
    "\n",
    "print(\"Proportion of Group that Responded\") \n",
    "print(predictors)"
   ]
  },
  {
   "cell_type": "markdown",
   "metadata": {},
   "source": [
    "There is an interaction between gender and marital_status, so we will use some simple code to evaluate the model on all possible interaction terms and see which does best. "
   ]
  },
  {
   "cell_type": "markdown",
   "metadata": {},
   "source": [
    "the association between age and response fundamentally changes at age 82, we have to restructure the data some how so that we can model these two age groups distinctly in the effect they have on response"
   ]
  },
  {
   "cell_type": "code",
   "execution_count": 113,
   "metadata": {},
   "outputs": [
    {
     "name": "stdout",
     "output_type": "stream",
     "text": [
      "   id  age  dist  income  gender  marital_status  target  age_lt80  age_ge80\n",
      "0   1   73     4   95000       1               0       1        73         0\n",
      "1   2   89     1  125000       1               1       1        82         7\n",
      "2   3   85     1   15000       0               0       1        82         3\n",
      "3   4   76     2   95000       1               1       1        76         0\n",
      "4   5   76     2   15000       1               0       1        76         0\n"
     ]
    }
   ],
   "source": [
    "data['age_lt80'] = np.where(data['age'] < 80, data['age'], 82)\n",
    "data['age_ge80'] = np.where(data['age'] >= 80, data['age'] - 82, 0)\n",
    "print(data.head())"
   ]
  },
  {
   "cell_type": "markdown",
   "metadata": {},
   "source": [
    "# Evaluate Logistic Regression"
   ]
  },
  {
   "cell_type": "code",
   "execution_count": 114,
   "metadata": {},
   "outputs": [
    {
     "name": "stdout",
     "output_type": "stream",
     "text": [
      "\n",
      "Top 10 interaction combinations by lift at 40%:\n"
     ]
    },
    {
     "data": {
      "text/html": [
       "<div>\n",
       "<style scoped>\n",
       "    .dataframe tbody tr th:only-of-type {\n",
       "        vertical-align: middle;\n",
       "    }\n",
       "\n",
       "    .dataframe tbody tr th {\n",
       "        vertical-align: top;\n",
       "    }\n",
       "\n",
       "    .dataframe thead th {\n",
       "        text-align: right;\n",
       "    }\n",
       "</style>\n",
       "<table border=\"1\" class=\"dataframe\">\n",
       "  <thead>\n",
       "    <tr style=\"text-align: right;\">\n",
       "      <th></th>\n",
       "      <th>num_interactions</th>\n",
       "      <th>interactions</th>\n",
       "      <th>lift_at_40</th>\n",
       "    </tr>\n",
       "  </thead>\n",
       "  <tbody>\n",
       "    <tr>\n",
       "      <th>6195</th>\n",
       "      <td>6</td>\n",
       "      <td>((age_lt80, marital_status), (age_ge80, income), (dist, income), (dist, gender), (dist, marital_status), (income, gender))</td>\n",
       "      <td>62.672811</td>\n",
       "    </tr>\n",
       "    <tr>\n",
       "      <th>6261</th>\n",
       "      <td>6</td>\n",
       "      <td>((age_lt80, marital_status), (dist, income), (dist, gender), (dist, marital_status), (income, gender), (gender, marital_status))</td>\n",
       "      <td>62.211982</td>\n",
       "    </tr>\n",
       "    <tr>\n",
       "      <th>7977</th>\n",
       "      <td>7</td>\n",
       "      <td>((age_lt80, dist), (age_lt80, marital_status), (dist, income), (dist, gender), (dist, marital_status), (income, gender), (gender, marital_status))</td>\n",
       "      <td>62.211982</td>\n",
       "    </tr>\n",
       "    <tr>\n",
       "      <th>7825</th>\n",
       "      <td>7</td>\n",
       "      <td>((age_lt80, dist), (age_lt80, marital_status), (age_ge80, dist), (age_ge80, marital_status), (dist, income), (dist, marital_status), (income, gender))</td>\n",
       "      <td>62.211982</td>\n",
       "    </tr>\n",
       "    <tr>\n",
       "      <th>4366</th>\n",
       "      <td>6</td>\n",
       "      <td>((age_lt80, dist), (age_lt80, marital_status), (age_ge80, dist), (dist, income), (dist, marital_status), (income, gender))</td>\n",
       "      <td>62.211982</td>\n",
       "    </tr>\n",
       "    <tr>\n",
       "      <th>740</th>\n",
       "      <td>4</td>\n",
       "      <td>((age_lt80, dist), (dist, income), (dist, marital_status), (income, gender))</td>\n",
       "      <td>62.211982</td>\n",
       "    </tr>\n",
       "    <tr>\n",
       "      <th>12247</th>\n",
       "      <td>8</td>\n",
       "      <td>((age_lt80, income), (age_lt80, marital_status), (age_ge80, income), (age_ge80, marital_status), (dist, income), (dist, gender), (dist, marital_status), (income, gender))</td>\n",
       "      <td>62.211982</td>\n",
       "    </tr>\n",
       "    <tr>\n",
       "      <th>9755</th>\n",
       "      <td>7</td>\n",
       "      <td>((age_lt80, marital_status), (age_ge80, income), (dist, income), (dist, gender), (dist, marital_status), (income, gender), (gender, marital_status))</td>\n",
       "      <td>62.211982</td>\n",
       "    </tr>\n",
       "    <tr>\n",
       "      <th>12263</th>\n",
       "      <td>8</td>\n",
       "      <td>((age_lt80, income), (age_lt80, marital_status), (age_ge80, income), (dist, income), (dist, gender), (dist, marital_status), (income, gender), (gender, marital_status))</td>\n",
       "      <td>62.211982</td>\n",
       "    </tr>\n",
       "    <tr>\n",
       "      <th>6427</th>\n",
       "      <td>6</td>\n",
       "      <td>((age_ge80, income), (age_ge80, marital_status), (dist, income), (dist, gender), (dist, marital_status), (income, gender))</td>\n",
       "      <td>62.211982</td>\n",
       "    </tr>\n",
       "  </tbody>\n",
       "</table>\n",
       "</div>"
      ],
      "text/plain": [
       "       num_interactions  \\\n",
       "6195                  6   \n",
       "6261                  6   \n",
       "7977                  7   \n",
       "7825                  7   \n",
       "4366                  6   \n",
       "740                   4   \n",
       "12247                 8   \n",
       "9755                  7   \n",
       "12263                 8   \n",
       "6427                  6   \n",
       "\n",
       "                                                                                                                                                                     interactions  \\\n",
       "6195                                                   ((age_lt80, marital_status), (age_ge80, income), (dist, income), (dist, gender), (dist, marital_status), (income, gender))   \n",
       "6261                                             ((age_lt80, marital_status), (dist, income), (dist, gender), (dist, marital_status), (income, gender), (gender, marital_status))   \n",
       "7977                           ((age_lt80, dist), (age_lt80, marital_status), (dist, income), (dist, gender), (dist, marital_status), (income, gender), (gender, marital_status))   \n",
       "7825                       ((age_lt80, dist), (age_lt80, marital_status), (age_ge80, dist), (age_ge80, marital_status), (dist, income), (dist, marital_status), (income, gender))   \n",
       "4366                                                   ((age_lt80, dist), (age_lt80, marital_status), (age_ge80, dist), (dist, income), (dist, marital_status), (income, gender))   \n",
       "740                                                                                                  ((age_lt80, dist), (dist, income), (dist, marital_status), (income, gender))   \n",
       "12247  ((age_lt80, income), (age_lt80, marital_status), (age_ge80, income), (age_ge80, marital_status), (dist, income), (dist, gender), (dist, marital_status), (income, gender))   \n",
       "9755                         ((age_lt80, marital_status), (age_ge80, income), (dist, income), (dist, gender), (dist, marital_status), (income, gender), (gender, marital_status))   \n",
       "12263    ((age_lt80, income), (age_lt80, marital_status), (age_ge80, income), (dist, income), (dist, gender), (dist, marital_status), (income, gender), (gender, marital_status))   \n",
       "6427                                                   ((age_ge80, income), (age_ge80, marital_status), (dist, income), (dist, gender), (dist, marital_status), (income, gender))   \n",
       "\n",
       "       lift_at_40  \n",
       "6195    62.672811  \n",
       "6261    62.211982  \n",
       "7977    62.211982  \n",
       "7825    62.211982  \n",
       "4366    62.211982  \n",
       "740     62.211982  \n",
       "12247   62.211982  \n",
       "9755    62.211982  \n",
       "12263   62.211982  \n",
       "6427    62.211982  "
      ]
     },
     "metadata": {},
     "output_type": "display_data"
    }
   ],
   "source": [
    "from sklearn.linear_model import LogisticRegression\n",
    "from sklearn.model_selection import train_test_split\n",
    "import statsmodels.api as sm\n",
    "from sklearn.metrics import roc_curve, auc, confusion_matrix\n",
    "import numpy as np\n",
    "import matplotlib.pyplot as plt\n",
    "import seaborn as sns\n",
    "import pandas as pd\n",
    "from itertools import combinations\n",
    "\n",
    "base_features = ['age_lt80', 'age_ge80', 'dist', 'income', 'gender', 'marital_status']\n",
    "interaction_terms = [\n",
    "    ('age_lt80', 'dist'), ('age_lt80', 'income'), ('age_lt80', 'gender'), ('age_lt80', 'marital_status'),\n",
    "    ('age_ge80', 'dist'), ('age_ge80', 'income'), ('age_ge80', 'gender'), ('age_ge80', 'marital_status'),\n",
    "    ('dist', 'income'), ('dist', 'gender'), ('dist', 'marital_status'),\n",
    "    ('income', 'gender'), ('income', 'marital_status'), ('gender', 'marital_status')\n",
    "]\n",
    "\n",
    "results = []\n",
    "\n",
    "for r in range(len(interaction_terms) + 1):\n",
    "    for terms in combinations(interaction_terms, r):\n",
    "        X = data[base_features].copy()\n",
    "        \n",
    "        for t1, t2 in terms:\n",
    "            X[f'{t1}_{t2}'] = X[t1] * X[t2]\n",
    "            \n",
    "        y = data['target']\n",
    "        X_train, X_test, y_train, y_test = train_test_split(X, y, test_size=0.2, random_state=42)\n",
    "        \n",
    "        model = sm.Logit(y_train, sm.add_constant(X_train)).fit(disp=0)\n",
    "        y_pred_proba_test = model.predict(sm.add_constant(X_test))\n",
    "        \n",
    "        test_data = pd.DataFrame({'target': y_test, 'predicted_probs': y_pred_proba_test})\n",
    "        test_data_sorted = test_data.sort_values('predicted_probs', ascending=False)\n",
    "        \n",
    "        total_pos = test_data_sorted['target'].sum()\n",
    "        n_rows = len(test_data_sorted)\n",
    "        cutoff_index = int(0.4 * n_rows)\n",
    "        lift_at_40 = test_data_sorted.iloc[:cutoff_index]['target'].sum() / total_pos * 100\n",
    "        \n",
    "        results.append({\n",
    "            'num_interactions': len(terms),\n",
    "            'interactions': terms,\n",
    "            'lift_at_40': lift_at_40\n",
    "        })\n",
    "\n",
    "results_df = pd.DataFrame(results)\n",
    "results_df = results_df.sort_values('lift_at_40', ascending=False)\n",
    "\n",
    "pd.set_option('display.max_rows', None)\n",
    "pd.set_option('display.max_columns', None)\n",
    "pd.set_option('display.width', None)\n",
    "pd.set_option('display.max_colwidth', None)\n",
    "\n",
    "print(\"\\nTop 10 interaction combinations by lift at 40%:\")\n",
    "display(results_df.head(10))"
   ]
  },
  {
   "cell_type": "code",
   "execution_count": 115,
   "metadata": {},
   "outputs": [
    {
     "name": "stdout",
     "output_type": "stream",
     "text": [
      "Yield at 40%: 62.7%\n"
     ]
    },
    {
     "data": {
      "image/png": "[encoded data removed]",
      "text/plain": [
       "<Figure size 1000x600 with 1 Axes>"
      ]
     },
     "metadata": {},
     "output_type": "display_data"
    },
    {
     "data": {
      "image/png": "[encoded data removed]",
      "text/plain": [
       "<Figure size 1000x600 with 1 Axes>"
      ]
     },
     "metadata": {},
     "output_type": "display_data"
    },
    {
     "name": "stdout",
     "output_type": "stream",
     "text": [
      "\n",
      "Top 10 observations by predicted probability:\n"
     ]
    },
    {
     "data": {
      "text/html": [
       "<div>\n",
       "<style scoped>\n",
       "    .dataframe tbody tr th:only-of-type {\n",
       "        vertical-align: middle;\n",
       "    }\n",
       "\n",
       "    .dataframe tbody tr th {\n",
       "        vertical-align: top;\n",
       "    }\n",
       "\n",
       "    .dataframe thead th {\n",
       "        text-align: right;\n",
       "    }\n",
       "</style>\n",
       "<table border=\"1\" class=\"dataframe\">\n",
       "  <thead>\n",
       "    <tr style=\"text-align: right;\">\n",
       "      <th></th>\n",
       "      <th>target</th>\n",
       "      <th>predicted_probs</th>\n",
       "    </tr>\n",
       "  </thead>\n",
       "  <tbody>\n",
       "    <tr>\n",
       "      <th>1405</th>\n",
       "      <td>0</td>\n",
       "      <td>0.579455</td>\n",
       "    </tr>\n",
       "    <tr>\n",
       "      <th>279</th>\n",
       "      <td>1</td>\n",
       "      <td>0.562695</td>\n",
       "    </tr>\n",
       "    <tr>\n",
       "      <th>2586</th>\n",
       "      <td>1</td>\n",
       "      <td>0.560023</td>\n",
       "    </tr>\n",
       "    <tr>\n",
       "      <th>3331</th>\n",
       "      <td>1</td>\n",
       "      <td>0.558055</td>\n",
       "    </tr>\n",
       "    <tr>\n",
       "      <th>1211</th>\n",
       "      <td>1</td>\n",
       "      <td>0.551534</td>\n",
       "    </tr>\n",
       "    <tr>\n",
       "      <th>184</th>\n",
       "      <td>0</td>\n",
       "      <td>0.550060</td>\n",
       "    </tr>\n",
       "    <tr>\n",
       "      <th>3379</th>\n",
       "      <td>0</td>\n",
       "      <td>0.546820</td>\n",
       "    </tr>\n",
       "    <tr>\n",
       "      <th>893</th>\n",
       "      <td>0</td>\n",
       "      <td>0.541995</td>\n",
       "    </tr>\n",
       "    <tr>\n",
       "      <th>2682</th>\n",
       "      <td>0</td>\n",
       "      <td>0.539455</td>\n",
       "    </tr>\n",
       "    <tr>\n",
       "      <th>63</th>\n",
       "      <td>0</td>\n",
       "      <td>0.533752</td>\n",
       "    </tr>\n",
       "  </tbody>\n",
       "</table>\n",
       "</div>"
      ],
      "text/plain": [
       "      target  predicted_probs\n",
       "1405       0         0.579455\n",
       "279        1         0.562695\n",
       "2586       1         0.560023\n",
       "3331       1         0.558055\n",
       "1211       1         0.551534\n",
       "184        0         0.550060\n",
       "3379       0         0.546820\n",
       "893        0         0.541995\n",
       "2682       0         0.539455\n",
       "63         0         0.533752"
      ]
     },
     "metadata": {},
     "output_type": "display_data"
    },
    {
     "name": "stdout",
     "output_type": "stream",
     "text": [
      "\n",
      "Bottom 10 observations by predicted probability:\n"
     ]
    },
    {
     "data": {
      "text/html": [
       "<div>\n",
       "<style scoped>\n",
       "    .dataframe tbody tr th:only-of-type {\n",
       "        vertical-align: middle;\n",
       "    }\n",
       "\n",
       "    .dataframe tbody tr th {\n",
       "        vertical-align: top;\n",
       "    }\n",
       "\n",
       "    .dataframe thead th {\n",
       "        text-align: right;\n",
       "    }\n",
       "</style>\n",
       "<table border=\"1\" class=\"dataframe\">\n",
       "  <thead>\n",
       "    <tr style=\"text-align: right;\">\n",
       "      <th></th>\n",
       "      <th>target</th>\n",
       "      <th>predicted_probs</th>\n",
       "    </tr>\n",
       "  </thead>\n",
       "  <tbody>\n",
       "    <tr>\n",
       "      <th>3284</th>\n",
       "      <td>0</td>\n",
       "      <td>0.029019</td>\n",
       "    </tr>\n",
       "    <tr>\n",
       "      <th>976</th>\n",
       "      <td>0</td>\n",
       "      <td>0.028952</td>\n",
       "    </tr>\n",
       "    <tr>\n",
       "      <th>2335</th>\n",
       "      <td>0</td>\n",
       "      <td>0.028776</td>\n",
       "    </tr>\n",
       "    <tr>\n",
       "      <th>1532</th>\n",
       "      <td>0</td>\n",
       "      <td>0.023675</td>\n",
       "    </tr>\n",
       "    <tr>\n",
       "      <th>1916</th>\n",
       "      <td>0</td>\n",
       "      <td>0.022613</td>\n",
       "    </tr>\n",
       "    <tr>\n",
       "      <th>538</th>\n",
       "      <td>0</td>\n",
       "      <td>0.022580</td>\n",
       "    </tr>\n",
       "    <tr>\n",
       "      <th>990</th>\n",
       "      <td>0</td>\n",
       "      <td>0.019946</td>\n",
       "    </tr>\n",
       "    <tr>\n",
       "      <th>3594</th>\n",
       "      <td>0</td>\n",
       "      <td>0.017780</td>\n",
       "    </tr>\n",
       "    <tr>\n",
       "      <th>3052</th>\n",
       "      <td>0</td>\n",
       "      <td>0.016003</td>\n",
       "    </tr>\n",
       "    <tr>\n",
       "      <th>2476</th>\n",
       "      <td>0</td>\n",
       "      <td>0.010245</td>\n",
       "    </tr>\n",
       "  </tbody>\n",
       "</table>\n",
       "</div>"
      ],
      "text/plain": [
       "      target  predicted_probs\n",
       "3284       0         0.029019\n",
       "976        0         0.028952\n",
       "2335       0         0.028776\n",
       "1532       0         0.023675\n",
       "1916       0         0.022613\n",
       "538        0         0.022580\n",
       "990        0         0.019946\n",
       "3594       0         0.017780\n",
       "3052       0         0.016003\n",
       "2476       0         0.010245"
      ]
     },
     "metadata": {},
     "output_type": "display_data"
    }
   ],
   "source": [
    "best_terms = results_df.iloc[0]['interactions']\n",
    "\n",
    "X = data[base_features].copy()\n",
    "for t1, t2 in best_terms:\n",
    "    X[f'{t1}_{t2}'] = X[t1] * X[t2]\n",
    "\n",
    "y = data['target']\n",
    "X_train, X_test, y_train, y_test = train_test_split(X, y, test_size=0.2, random_state=42)\n",
    "\n",
    "model = sm.Logit(y_train, sm.add_constant(X_train)).fit(disp=0)\n",
    "y_pred_proba_test = model.predict(sm.add_constant(X_test))\n",
    "\n",
    "test_data = pd.DataFrame({'target': y_test, 'predicted_probs': y_pred_proba_test})\n",
    "test_data_sorted = test_data.sort_values('predicted_probs', ascending=False)\n",
    "\n",
    "total_pos = test_data_sorted['target'].sum()\n",
    "n_rows = len(test_data_sorted)\n",
    "deciles = np.linspace(0, n_rows, 11, dtype=int)\n",
    "lift_curve = [test_data_sorted.iloc[:i]['target'].sum() / total_pos * 100 for i in deciles]\n",
    "baseline = np.linspace(0, 100, 11)\n",
    "\n",
    "print(f'Yield at 40%: {lift_curve[4]:.1f}%')\n",
    "\n",
    "plt.figure(figsize=(10, 6))\n",
    "plt.plot(baseline, lift_curve, marker='o', label='Lift Curve')\n",
    "plt.plot(baseline, baseline, linestyle='--', marker='o', label='Baseline')\n",
    "plt.xlabel('Percentage of Data')\n",
    "plt.ylabel('Percentage of Positive Cases')\n",
    "plt.legend()\n",
    "plt.show()\n",
    "\n",
    "plt.figure(figsize=(10, 6))\n",
    "plt.plot(range(11), np.array(lift_curve) / baseline, marker='o')\n",
    "plt.axhline(y=1, linestyle='--', color='r')\n",
    "plt.xlabel('Observations')\n",
    "plt.ylabel('Lift Curve / Baseline')\n",
    "plt.title('Advantage Plot')\n",
    "plt.show()\n",
    "\n",
    "print(\"\\nTop 10 observations by predicted probability:\")\n",
    "display(test_data_sorted.head(10))\n",
    "\n",
    "print(\"\\nBottom 10 observations by predicted probability:\")\n",
    "display(test_data_sorted.tail(10))\n"
   ]
  },
  {
   "cell_type": "markdown",
   "metadata": {},
   "source": [
    "If the advantage chart shows that from left to right the curve is directly least to greatest advantage then the model is as optimized as possible "
   ]
  }
 ],
 "metadata": {
  "kernelspec": {
   "display_name": "base",
   "language": "python",
   "name": "python3"
  },
  "language_info": {
   "codemirror_mode": {
    "name": "ipython",
    "version": 3
   },
   "file_extension": ".py",
   "mimetype": "text/x-python",
   "name": "python",
   "nbconvert_exporter": "python",
   "pygments_lexer": "ipython3",
   "version": "3.12.2"
  }
 },
 "nbformat": 4,
 "nbformat_minor": 2
}
