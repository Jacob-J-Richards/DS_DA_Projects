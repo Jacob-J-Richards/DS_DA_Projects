{
 "cells": [
  {
   "cell_type": "code",
   "execution_count": null,
   "metadata": {},
   "outputs": [],
   "source": [
    "import numpy as np \n",
    "import pandas as pd \n",
    "import os\n",
    "import matplotlib.pyplot as plt\n",
    "\n",
    "os.chdir(\"/Users/jacobrichards/Desktop/DS_DA_Projects/2-Marketing_Prediction\")\n",
    "\n",
    "data = pd.read_csv(\"data.csv\", na_values=[\"\", \"NA\"])\n",
    "\n",
    "import warnings\n",
    "warnings.filterwarnings('ignore')\n",
    "\n",
    "plt.rcParams['figure.figsize'] = [8, 6]  # Default figure size\n",
    "plt.rcParams['figure.dpi'] = 100  # Controls display resolution"
   ]
  },
  {
   "cell_type": "code",
   "execution_count": null,
   "metadata": {},
   "outputs": [
    {
     "name": "stdout",
     "output_type": "stream",
     "text": [
      "   id  age      dist       income gender marital_status  target\n",
      "0   1   73  4.371654    90-99,999      M              S       1\n",
      "1   2   89  1.582733  100-149,999      M            NaN       1\n",
      "2   3   85  1.223810    10-19,999      F              S       1\n",
      "3   4   76  2.962427    90-99,999      M              M       1\n",
      "4   5   76  2.594408    10-19,999      M              S       1\n"
     ]
    }
   ],
   "source": [
    "print(data.head())"
   ]
  },
  {
   "cell_type": "markdown",
   "metadata": {},
   "source": [
    "# prepare data"
   ]
  },
  {
   "cell_type": "code",
   "execution_count": null,
   "metadata": {},
   "outputs": [],
   "source": [
    "import pandas as pd\n",
    "import numpy as np\n",
    "\n",
    "# Replace missing or empty values in columns 4, 5, 6 with \"unknown\"\n",
    "data.iloc[:, [3, 4, 5]] = data.iloc[:, [3, 4, 5]].applymap(lambda x: \"unknown\" if pd.isna(x) or x == \"\" else x)\n",
    "\n",
    "income_mapping = {\n",
    "    \"unknown\": 55000,\n",
    "    \"Under $10k\": 5000,\n",
    "    \"10-19,999\": 15000,\n",
    "    \"20-29,999\": 25000,\n",
    "    \"30-39,999\": 35000,\n",
    "    \"40-49,999\": 45000,\n",
    "    \"50-59,999\": 55000,\n",
    "    \"60-69,999\": 65000,\n",
    "    \"70-79,999\": 75000,\n",
    "    \"80-89,999\": 85000,\n",
    "    \"90-99,999\": 95000,\n",
    "    \"100-149,999\": 125000,\n",
    "    \"150 - 174,999\": 162500,\n",
    "    \"175 - 199,999\": 187500,\n",
    "    \"200 - 249,999\": 225000,\n",
    "    \"250k+\": 250000\n",
    "}\n",
    "data[\"income\"] = data[\"income\"].map(income_mapping).astype(int)\n",
    "\n",
    "# Replace gender with 1 for male, 0 for female, and 0 for unknown\n",
    "gender_mapping = {\"M\": 1, \"F\": 0, \"unknown\": 0}\n",
    "data[\"gender\"] = data[\"gender\"].map(gender_mapping).astype(int)\n",
    "\n",
    "# Replace marital_status with 1 for married, 0 for single, and 1 for unknown\n",
    "marital_status_mapping = {\"M\": 1, \"S\": 0, \"unknown\": 1}\n",
    "data[\"marital_status\"] = data[\"marital_status\"].map(marital_status_mapping).astype(int)\n",
    "\n",
    "# Convert target to categorical values (0 or 1)\n",
    "data[\"target\"] = data[\"target\"].astype(int)\n",
    "\n",
    "# Convert distance (dist) column to integer\n",
    "data[\"dist\"] = data[\"dist\"].astype(int)"
   ]
  },
  {
   "cell_type": "markdown",
   "metadata": {},
   "source": [
    "Male is 1 and female is 0, married is 1 and single is 0, finally, response is 1 and no response is 0. "
   ]
  },
  {
   "cell_type": "code",
   "execution_count": null,
   "metadata": {},
   "outputs": [
    {
     "name": "stdout",
     "output_type": "stream",
     "text": [
      "   id  age  dist  income  gender  marital_status  target\n",
      "0   1   73     4   95000       1               0       1\n",
      "1   2   89     1  125000       1               1       1\n",
      "2   3   85     1   15000       0               0       1\n",
      "3   4   76     2   95000       1               1       1\n",
      "4   5   76     2   15000       1               0       1\n"
     ]
    }
   ],
   "source": [
    "print(data.head())"
   ]
  },
  {
   "cell_type": "code",
   "execution_count": null,
   "metadata": {},
   "outputs": [
    {
     "name": "stdout",
     "output_type": "stream",
     "text": [
      "Proportion of Group that Responded\n",
      "          Single   Married\n",
      "Female  0.224093  0.219920\n",
      "Male    0.214156  0.304501\n"
     ]
    }
   ],
   "source": [
    "# Create contingency table for gender/marital status vs target\n",
    "predictors = pd.DataFrame({\n",
    "    'Single': [data[(data['gender'] == 0) & (data['marital_status'] == 0)]['target'].mean(),\n",
    "               data[(data['gender'] == 1) & (data['marital_status'] == 0)]['target'].mean()],\n",
    "    'Married': [data[(data['gender'] == 0) & (data['marital_status'] == 1)]['target'].mean(),\n",
    "                data[(data['gender'] == 1) & (data['marital_status'] == 1)]['target'].mean()]\n",
    "}, index=['Female', 'Male'])\n",
    "\n",
    "print(\"Proportion of Group that Responded\") \n",
    "print(predictors)"
   ]
  },
  {
   "cell_type": "markdown",
   "metadata": {},
   "source": [
    "There is an interaction between gender and marital_status, so we will use some simple code to evaluate the model on all possible interaction terms and see which does best. "
   ]
  },
  {
   "cell_type": "markdown",
   "metadata": {},
   "source": [
    "# Evaluate Logistic Regression"
   ]
  },
  {
   "cell_type": "code",
   "execution_count": null,
   "metadata": {},
   "outputs": [
    {
     "name": "stdout",
     "output_type": "stream",
     "text": [
      "\n",
      "Top 10 interaction combinations by lift at 40%:\n"
     ]
    },
    {
     "data": {
      "text/html": [
       "<div>\n",
       "<style scoped>\n",
       "    .dataframe tbody tr th:only-of-type {\n",
       "        vertical-align: middle;\n",
       "    }\n",
       "\n",
       "    .dataframe tbody tr th {\n",
       "        vertical-align: top;\n",
       "    }\n",
       "\n",
       "    .dataframe thead th {\n",
       "        text-align: right;\n",
       "    }\n",
       "</style>\n",
       "<table border=\"1\" class=\"dataframe\">\n",
       "  <thead>\n",
       "    <tr style=\"text-align: right;\">\n",
       "      <th></th>\n",
       "      <th>num_interactions</th>\n",
       "      <th>interactions</th>\n",
       "      <th>lift_at_40</th>\n",
       "    </tr>\n",
       "  </thead>\n",
       "  <tbody>\n",
       "    <tr>\n",
       "      <th>990</th>\n",
       "      <td>8</td>\n",
       "      <td>((age, dist), (age, income), (age, marital_status), (dist, income), (dist, gender), (dist, marital_status), (income, gender), (gender, marital_status))</td>\n",
       "      <td>61.290323</td>\n",
       "    </tr>\n",
       "    <tr>\n",
       "      <th>926</th>\n",
       "      <td>7</td>\n",
       "      <td>((age, dist), (age, marital_status), (dist, income), (dist, gender), (dist, marital_status), (income, gender), (gender, marital_status))</td>\n",
       "      <td>61.290323</td>\n",
       "    </tr>\n",
       "    <tr>\n",
       "      <th>621</th>\n",
       "      <td>5</td>\n",
       "      <td>((age, marital_status), (dist, income), (dist, gender), (income, gender), (gender, marital_status))</td>\n",
       "      <td>60.829493</td>\n",
       "    </tr>\n",
       "    <tr>\n",
       "      <th>674</th>\n",
       "      <td>6</td>\n",
       "      <td>((age, dist), (age, income), (age, marital_status), (dist, income), (dist, gender), (income, gender))</td>\n",
       "      <td>60.829493</td>\n",
       "    </tr>\n",
       "    <tr>\n",
       "      <th>676</th>\n",
       "      <td>6</td>\n",
       "      <td>((age, dist), (age, income), (age, marital_status), (dist, income), (dist, gender), (gender, marital_status))</td>\n",
       "      <td>60.829493</td>\n",
       "    </tr>\n",
       "    <tr>\n",
       "      <th>147</th>\n",
       "      <td>3</td>\n",
       "      <td>((age, marital_status), (dist, gender), (income, gender))</td>\n",
       "      <td>60.829493</td>\n",
       "    </tr>\n",
       "    <tr>\n",
       "      <th>883</th>\n",
       "      <td>7</td>\n",
       "      <td>((age, dist), (age, income), (age, marital_status), (dist, income), (dist, gender), (dist, marital_status), (income, gender))</td>\n",
       "      <td>60.829493</td>\n",
       "    </tr>\n",
       "    <tr>\n",
       "      <th>354</th>\n",
       "      <td>4</td>\n",
       "      <td>((age, marital_status), (dist, income), (dist, gender), (gender, marital_status))</td>\n",
       "      <td>60.829493</td>\n",
       "    </tr>\n",
       "    <tr>\n",
       "      <th>885</th>\n",
       "      <td>7</td>\n",
       "      <td>((age, dist), (age, income), (age, marital_status), (dist, income), (dist, gender), (dist, marital_status), (gender, marital_status))</td>\n",
       "      <td>60.829493</td>\n",
       "    </tr>\n",
       "    <tr>\n",
       "      <th>747</th>\n",
       "      <td>6</td>\n",
       "      <td>((age, dist), (age, marital_status), (dist, income), (dist, gender), (income, gender), (gender, marital_status))</td>\n",
       "      <td>60.829493</td>\n",
       "    </tr>\n",
       "  </tbody>\n",
       "</table>\n",
       "</div>"
      ],
      "text/plain": [
       "     num_interactions  \\\n",
       "990                 8   \n",
       "926                 7   \n",
       "621                 5   \n",
       "674                 6   \n",
       "676                 6   \n",
       "147                 3   \n",
       "883                 7   \n",
       "354                 4   \n",
       "885                 7   \n",
       "747                 6   \n",
       "\n",
       "                                                                                                                                                interactions  \\\n",
       "990  ((age, dist), (age, income), (age, marital_status), (dist, income), (dist, gender), (dist, marital_status), (income, gender), (gender, marital_status))   \n",
       "926                 ((age, dist), (age, marital_status), (dist, income), (dist, gender), (dist, marital_status), (income, gender), (gender, marital_status))   \n",
       "621                                                      ((age, marital_status), (dist, income), (dist, gender), (income, gender), (gender, marital_status))   \n",
       "674                                                    ((age, dist), (age, income), (age, marital_status), (dist, income), (dist, gender), (income, gender))   \n",
       "676                                            ((age, dist), (age, income), (age, marital_status), (dist, income), (dist, gender), (gender, marital_status))   \n",
       "147                                                                                                ((age, marital_status), (dist, gender), (income, gender))   \n",
       "883                            ((age, dist), (age, income), (age, marital_status), (dist, income), (dist, gender), (dist, marital_status), (income, gender))   \n",
       "354                                                                        ((age, marital_status), (dist, income), (dist, gender), (gender, marital_status))   \n",
       "885                    ((age, dist), (age, income), (age, marital_status), (dist, income), (dist, gender), (dist, marital_status), (gender, marital_status))   \n",
       "747                                         ((age, dist), (age, marital_status), (dist, income), (dist, gender), (income, gender), (gender, marital_status))   \n",
       "\n",
       "     lift_at_40  \n",
       "990   61.290323  \n",
       "926   61.290323  \n",
       "621   60.829493  \n",
       "674   60.829493  \n",
       "676   60.829493  \n",
       "147   60.829493  \n",
       "883   60.829493  \n",
       "354   60.829493  \n",
       "885   60.829493  \n",
       "747   60.829493  "
      ]
     },
     "metadata": {},
     "output_type": "display_data"
    }
   ],
   "source": [
    "from sklearn.linear_model import LogisticRegression\n",
    "from sklearn.model_selection import train_test_split\n",
    "import statsmodels.api as sm\n",
    "from sklearn.metrics import roc_curve, auc, confusion_matrix\n",
    "import numpy as np\n",
    "import matplotlib.pyplot as plt\n",
    "import seaborn as sns\n",
    "import pandas as pd\n",
    "from itertools import combinations\n",
    "\n",
    "base_features = ['age', 'dist', 'income', 'gender', 'marital_status']\n",
    "interaction_terms = [\n",
    "    ('age', 'dist'), ('age', 'income'), ('age', 'gender'), ('age', 'marital_status'),\n",
    "    ('dist', 'income'), ('dist', 'gender'), ('dist', 'marital_status'),\n",
    "    ('income', 'gender'), ('income', 'marital_status'), ('gender', 'marital_status')\n",
    "]\n",
    "\n",
    "results = []\n",
    "\n",
    "for r in range(len(interaction_terms) + 1):\n",
    "    for terms in combinations(interaction_terms, r):\n",
    "        X = data[base_features].copy()\n",
    "        \n",
    "        for t1, t2 in terms:\n",
    "            X[f'{t1}_{t2}'] = X[t1] * X[t2]\n",
    "            \n",
    "        y = data['target']\n",
    "        X_train, X_test, y_train, y_test = train_test_split(X, y, test_size=0.2, random_state=42)\n",
    "        \n",
    "        model = sm.Logit(y_train, sm.add_constant(X_train)).fit(disp=0)\n",
    "        y_pred_proba_test = model.predict(sm.add_constant(X_test))\n",
    "        \n",
    "        test_data = pd.DataFrame({'target': y_test, 'predicted_probs': y_pred_proba_test})\n",
    "        test_data_sorted = test_data.sort_values('predicted_probs', ascending=False)\n",
    "        \n",
    "        total_pos = test_data_sorted['target'].sum()\n",
    "        n_rows = len(test_data_sorted)\n",
    "        cutoff_index = int(0.4 * n_rows)\n",
    "        lift_at_40 = test_data_sorted.iloc[:cutoff_index]['target'].sum() / total_pos * 100\n",
    "        \n",
    "        results.append({\n",
    "            'num_interactions': len(terms),\n",
    "            'interactions': terms,\n",
    "            'lift_at_40': lift_at_40\n",
    "        })\n",
    "\n",
    "results_df = pd.DataFrame(results)\n",
    "results_df = results_df.sort_values('lift_at_40', ascending=False)\n",
    "\n",
    "pd.set_option('display.max_rows', None)\n",
    "pd.set_option('display.max_columns', None)\n",
    "pd.set_option('display.width', None)\n",
    "pd.set_option('display.max_colwidth', None)\n",
    "\n",
    "print(\"\\nTop 10 interaction combinations by lift at 40%:\")\n",
    "display(results_df.head(10))"
   ]
  }
 ],
 "metadata": {
  "language_info": {
   "name": "python"
  }
 },
 "nbformat": 4,
 "nbformat_minor": 2
}
