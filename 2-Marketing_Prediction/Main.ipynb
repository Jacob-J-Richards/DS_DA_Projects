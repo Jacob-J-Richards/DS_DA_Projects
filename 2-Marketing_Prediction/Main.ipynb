{
 "cells": [
  {
   "cell_type": "markdown",
   "metadata": {},
   "source": [
    "# Binary Classification Predictive Modelling"
   ]
  },
  {
   "cell_type": "code",
   "execution_count": 16,
   "metadata": {},
   "outputs": [],
   "source": [
    "import pandas as pd \n",
    "import os\n",
    "import matplotlib.pyplot as plt\n",
    "\n",
    "os.chdir(\"/Users/jacobrichards/Desktop/DS_DA_Projects/2-Marketing_Prediction\")\n",
    "\n",
    "data = pd.read_csv(\"data.csv\", na_values=[\"\", \"NA\"])\n",
    "\n",
    "import warnings\n",
    "warnings.filterwarnings('ignore')\n",
    "\n",
    "plt.rcParams['figure.figsize'] = [8, 6]  \n",
    "plt.rcParams['figure.dpi'] = 100  "
   ]
  },
  {
   "cell_type": "markdown",
   "metadata": {},
   "source": [
    "### Data Preview"
   ]
  },
  {
   "cell_type": "code",
   "execution_count": null,
   "metadata": {},
   "outputs": [],
   "source": [
    "print(data.head())"
   ]
  },
  {
   "cell_type": "markdown",
   "metadata": {},
   "source": [
    "### Prepare Data"
   ]
  },
  {
   "cell_type": "markdown",
   "metadata": {},
   "source": [
    "#### Predictors\n",
    "- income from categorical to continuous variable by assigning midpoint of the range as integer (income level char: \"90-99,999\" --> int: 95,000)\n",
    "- age and distance as integer \n",
    "- gender, marital_status as binary\n",
    "\n",
    "#### Response\n",
    "- target as binary"
   ]
  },
  {
   "cell_type": "code",
   "execution_count": 18,
   "metadata": {},
   "outputs": [],
   "source": [
    "data.iloc[:, [3, 4, 5]] = data.iloc[:, [3, 4, 5]].applymap(lambda x: \"unknown\" if pd.isna(x) or x == \"\" else x)\n",
    "\n",
    "income_mapping = {\n",
    "    \"unknown\": 55000,\n",
    "    \"Under $10k\": 5000,\n",
    "    \"10-19,999\": 15000,\n",
    "    \"20-29,999\": 25000,\n",
    "    \"30-39,999\": 35000,\n",
    "    \"40-49,999\": 45000,\n",
    "    \"50-59,999\": 55000,\n",
    "    \"60-69,999\": 65000,\n",
    "    \"70-79,999\": 75000,\n",
    "    \"80-89,999\": 85000,\n",
    "    \"90-99,999\": 95000,\n",
    "    \"100-149,999\": 125000,\n",
    "    \"150 - 174,999\": 162500,\n",
    "    \"175 - 199,999\": 187500,\n",
    "    \"200 - 249,999\": 225000,\n",
    "    \"250k+\": 250000\n",
    "}\n",
    "data[\"income\"] = data[\"income\"].map(income_mapping).astype(int)\n",
    "\n",
    "gender_mapping = {\"M\": 1, \"F\": 0, \"unknown\": 0}\n",
    "data[\"gender\"] = data[\"gender\"].map(gender_mapping).astype(int)\n",
    "\n",
    "marital_status_mapping = {\"M\": 1, \"S\": 0, \"unknown\": 1}\n",
    "data[\"marital_status\"] = data[\"marital_status\"].map(marital_status_mapping).astype(int)\n",
    "\n",
    "data[\"target\"] = data[\"target\"].astype(int)\n",
    "\n",
    "data[\"dist\"] = data[\"dist\"].astype(int)"
   ]
  },
  {
   "cell_type": "code",
   "execution_count": null,
   "metadata": {},
   "outputs": [],
   "source": [
    "print(data.head())"
   ]
  },
  {
   "cell_type": "markdown",
   "metadata": {},
   "source": [
    "#### Examine individual strength of continuous predictors within data set by plotting observed probability of response corresponding to predictor values.   "
   ]
  },
  {
   "cell_type": "code",
   "execution_count": null,
   "metadata": {},
   "outputs": [],
   "source": [
    "import seaborn as sns\n",
    "from scipy.stats import pointbiserialr\n",
    "\n",
    "\n",
    "def make_plot(df, var, ax, threshold=None):\n",
    "    plot_df, corr, p = plot_ratio_positive_negative_with_corr(df, var, 'target')\n",
    "    sns.scatterplot(x=var, y='ratio_positive_negative', data=plot_df, color='blue', s=150, label='Data Points', ax=ax)\n",
    "    \n",
    "    if threshold:\n",
    "        df_below = plot_df[plot_df[var] <= threshold]\n",
    "        df_above = plot_df[plot_df[var] > threshold]\n",
    "        sns.regplot(x=var, y='ratio_positive_negative', data=df_below, scatter=False,\n",
    "                   lowess=True, color='red', line_kws={'lw': 4}, \n",
    "                   label=f'Lowess Smoother (≤{threshold})', ax=ax)\n",
    "        sns.regplot(x=var, y='ratio_positive_negative', data=df_above, scatter=False,\n",
    "                   lowess=True, color='green', line_kws={'lw': 4}, \n",
    "                   label=f'Lowess Smoother (>{threshold})', ax=ax)\n",
    "    else:\n",
    "        sns.regplot(x=var, y='ratio_positive_negative', data=plot_df, scatter=False,\n",
    "                   lowess=True, color='red', line_kws={'lw': 4}, label='Lowess Smoother', ax=ax)\n",
    "    \n",
    "    ax.text(0.05, 0.95, f'Point-Biserial Corr: {corr:.4f}\\nP-Value: {p:.4e}', \n",
    "            transform=ax.transAxes, fontsize=16, bbox=dict(facecolor='white', alpha=0.8))\n",
    "    ax.set_title(f'Ratio of Positive Outcomes by {var.title()}', fontsize=20)\n",
    "    ax.set_xlabel(var.title(), fontsize=16)\n",
    "    ax.set_ylabel('Ratio (Positive / Total)', fontsize=16)\n",
    "    ax.set_ylim(0, 0.50)\n",
    "    ax.legend(fontsize=14)\n",
    "    ax.grid(True)\n",
    "    ax.tick_params(labelsize=14)\n",
    "\n",
    "def plot_ratio_positive_negative_with_corr(df, continuous_var, categorical_var='target', positive_value=1, negative_value=0):\n",
    "    grouped = df.groupby([continuous_var, categorical_var]).size().reset_index(name='count')\n",
    "    pivot = grouped.pivot(index=continuous_var, columns=categorical_var, values='count').fillna(0)\n",
    "    ratio = pivot[positive_value] / (pivot[positive_value] + pivot[negative_value] + 1e-9)\n",
    "    plot_df = pd.DataFrame({continuous_var: ratio.index, 'ratio_positive_negative': ratio.values})\n",
    "    return plot_df, *pointbiserialr(df[continuous_var], df[categorical_var])\n",
    "\n",
    "\n",
    "for var in ['dist', 'income', 'age']:\n",
    "    fig, ax = plt.subplots(figsize=(20, 12))\n",
    "    make_plot(data, var, ax)\n",
    "    plt.tight_layout()\n",
    "    plt.show()"
   ]
  },
  {
   "cell_type": "markdown",
   "metadata": {},
   "source": [
    "Continuous predictors appear to have mixed effects, visualize significance of change in variable effect by plotting with separate smoother."
   ]
  },
  {
   "cell_type": "code",
   "execution_count": null,
   "metadata": {},
   "outputs": [],
   "source": [
    "fig, (ax1, ax2, ax3) = plt.subplots(3, 1, figsize=(20, 36))\n",
    "make_plot(data, 'dist', ax1, threshold=10)\n",
    "make_plot(data, 'income', ax2, threshold=45000)\n",
    "make_plot(data, 'age', ax3, threshold=82)\n",
    "plt.tight_layout()\n",
    "plt.show()"
   ]
  },
  {
   "cell_type": "markdown",
   "metadata": {},
   "source": [
    "Age and Income have most visually apparent change in relationship to response."
   ]
  },
  {
   "cell_type": "markdown",
   "metadata": {},
   "source": [
    "In model testing, only accounting for the mixed effects of variable age provided significant increase in model performance. "
   ]
  },
  {
   "cell_type": "code",
   "execution_count": null,
   "metadata": {},
   "outputs": [],
   "source": [
    "import numpy as np\n",
    "data['age_lt80'] = np.where(data['age'] < 80, data['age'], 80)\n",
    "data['age_ge80'] = np.where(data['age'] >= 80, data['age'] - 80, 0)\n",
    "print(data.head())"
   ]
  },
  {
   "cell_type": "markdown",
   "metadata": {},
   "source": [
    "Examine strength of categorical predictors and check for interactions between them."
   ]
  },
  {
   "cell_type": "code",
   "execution_count": null,
   "metadata": {},
   "outputs": [],
   "source": [
    "import matplotlib.pyplot as plt\n",
    "from scipy import stats\n",
    "\n",
    "def plot_ratio_by_category(data, col, labels):\n",
    "    group0 = data[data[col] == 0]['target']\n",
    "    group1 = data[data[col] == 1]['target']\n",
    "    \n",
    "    ratios = [len(data[(data[col] == i) & (data['target'] == 1)]) / len(data[data[col] == i]) for i in [0,1]]\n",
    "    \n",
    "    _, pvalue = stats.ttest_ind(group0, group1)\n",
    "    \n",
    "    fig, ax = plt.subplots(figsize=(10, 6), dpi=300)\n",
    "    ax.bar(labels, ratios)\n",
    "    ax.set_title(f'Observed probability of response by {col}\\np-value: {pvalue:.4e}')\n",
    "    ax.set_xlabel(col.replace('_',' ').title())\n",
    "    ax.set_ylabel('Ratio of Positive Responses')\n",
    "    ax.grid(axis='y', color='lightgray')\n",
    "    plt.show()\n",
    "\n",
    "plot_ratio_by_category(data, 'gender', ['Female', 'Male'])\n",
    "plot_ratio_by_category(data, 'marital_status', ['Single', 'Married'])"
   ]
  },
  {
   "cell_type": "markdown",
   "metadata": {},
   "source": [
    "Observed probability of response is significantly greater for men than women (gender = 1) and is significantly greater for married than single individuals (marital_status = 1).  "
   ]
  },
  {
   "cell_type": "markdown",
   "metadata": {},
   "source": [
    "Check for interaction between gender and marital status in effects on response."
   ]
  },
  {
   "cell_type": "code",
   "execution_count": null,
   "metadata": {},
   "outputs": [],
   "source": [
    "import matplotlib.pyplot as plt\n",
    "\n",
    "ratios = pd.DataFrame({\n",
    "    'Single': [len(data[(data['gender'] == 0) & (data['marital_status'] == 0) & (data['target'] == 1)]) / len(data[(data['gender'] == 0) & (data['marital_status'] == 0)]),\n",
    "               len(data[(data['gender'] == 1) & (data['marital_status'] == 0) & (data['target'] == 1)]) / len(data[(data['gender'] == 1) & (data['marital_status'] == 0)])],\n",
    "    'Married': [len(data[(data['gender'] == 0) & (data['marital_status'] == 1) & (data['target'] == 1)]) / len(data[(data['gender'] == 0) & (data['marital_status'] == 1)]),\n",
    "                len(data[(data['gender'] == 1) & (data['marital_status'] == 1) & (data['target'] == 1)]) / len(data[(data['gender'] == 1) & (data['marital_status'] == 1)])],\n",
    "    'Total': [len(data[(data['gender'] == 0) & (data['target'] == 1)]) / len(data[data['gender'] == 0]),\n",
    "              len(data[(data['gender'] == 1) & (data['target'] == 1)]) / len(data[data['gender'] == 1])]\n",
    "}, index=['Female', 'Male'])\n",
    "\n",
    "fig, ax = plt.subplots(figsize=(10, 6), dpi=300)\n",
    "\n",
    "x = np.arange(len(ratios.index))\n",
    "width = 0.25\n",
    "\n",
    "ax.bar(x - width, ratios['Single'], width, label='Single')\n",
    "ax.bar(x, ratios['Married'], width, label='Married')\n",
    "ax.bar(x + width, ratios['Total'], width, label='Total')\n",
    "\n",
    "ax.set_title('Observed probability of response by gender and marital status', fontsize=14)\n",
    "ax.set_xlabel('Gender', fontsize=12)\n",
    "ax.set_ylabel('Ratio of Positive Responses', fontsize=12)\n",
    "ax.set_xticks(x)\n",
    "ax.set_xticklabels(ratios.index, fontsize=12)\n",
    "ax.legend(title='Marital Status', fontsize=12, title_fontsize=12)\n",
    "ax.grid(axis='y', color='lightgray')\n",
    "ax.tick_params(axis='both', labelsize=12)\n",
    "\n",
    "plt.show()"
   ]
  },
  {
   "cell_type": "markdown",
   "metadata": {},
   "source": [
    "The Observed probability for male and for married individuals being greater than the women and single individuals is due to the variable interaction revealed in this plot. "
   ]
  },
  {
   "cell_type": "markdown",
   "metadata": {},
   "source": [
    "There is interaction between variables gender and marital status such that marital status is a significant predictor of response for men but not for women."
   ]
  },
  {
   "cell_type": "markdown",
   "metadata": {},
   "source": [
    "Evaluate Logistic Regression Model on training data with every possible combination of interaction terms and select combination with best performance to evaluate on testing data."
   ]
  },
  {
   "cell_type": "code",
   "execution_count": 25,
   "metadata": {},
   "outputs": [],
   "source": [
    "from sklearn.model_selection import train_test_split\n",
    "import statsmodels.api as sm\n",
    "import numpy as np\n",
    "import pandas as pd\n",
    "from itertools import combinations\n",
    "\n",
    "base_features = ['age_lt80', 'age_ge80', 'dist', 'income', 'gender', 'marital_status']\n",
    "interaction_terms = [\n",
    "    ('age_lt80', 'dist'), ('age_lt80', 'income'), ('age_lt80', 'gender'), ('age_lt80', 'marital_status'),\n",
    "    ('age_ge80', 'dist'), ('age_ge80', 'income'), ('age_ge80', 'gender'), ('age_ge80', 'marital_status'),\n",
    "    ('dist', 'income'), ('dist', 'gender'), ('dist', 'marital_status'),\n",
    "    ('income', 'gender'), ('income', 'marital_status'), ('gender', 'marital_status')\n",
    "]\n",
    "\n",
    "X_base = data[base_features].copy()\n",
    "y = data['target']\n",
    "X_train_base, X_test_base, y_train, y_test = train_test_split(X_base, y, test_size=0.2, random_state=42)\n",
    "\n",
    "results = []\n",
    "\n",
    "for r in range(len(interaction_terms) + 1):\n",
    "    for terms in combinations(interaction_terms, r):\n",
    "        X_train = X_train_base.copy()\n",
    "        \n",
    "        for t1, t2 in terms:\n",
    "            X_train[f'{t1}_{t2}'] = X_train[t1] * X_train[t2]\n",
    "            \n",
    "            \n",
    "        model = sm.Logit(y_train, sm.add_constant(X_train)).fit(disp=0)\n",
    "        y_pred_proba = model.predict(sm.add_constant(X_train))\n",
    "        \n",
    "        train_data = pd.DataFrame({'target': y_train, 'predicted_probs': y_pred_proba})\n",
    "        train_data_sorted = train_data.sort_values('predicted_probs', ascending=False)\n",
    "        \n",
    "        total_pos = train_data_sorted['target'].sum()\n",
    "        n_rows = len(train_data_sorted)\n",
    "        cutoff_index = int(0.4 * n_rows)\n",
    "        lift_at_40 = train_data_sorted.iloc[:cutoff_index]['target'].sum() / total_pos * 100\n",
    "        \n",
    "        results.append({\n",
    "            'interactions': terms,\n",
    "            'lift_at_40': lift_at_40\n",
    "        })\n",
    "\n",
    "results_df = pd.DataFrame(results)\n",
    "results_df = results_df.sort_values('lift_at_40', ascending=False)\n",
    "\n",
    "print(\"\\nBest interaction term combinations by lift at 40%:\")\n",
    "print(results_df.head(1))\n",
    "\n",
    "best_terms = results_df.iloc[0]['interactions']"
   ]
  },
  {
   "cell_type": "markdown",
   "metadata": {},
   "source": [
    "Model performance is measured by the percentage of total responses captured among the top 40% of customers, ranked in order of descending predicted probability of response. "
   ]
  },
  {
   "cell_type": "markdown",
   "metadata": {},
   "source": [
    "Logistic Regression Model evaluated with best combination of interaction terms on testing data results visualized by Lift Chart."
   ]
  },
  {
   "cell_type": "code",
   "execution_count": null,
   "metadata": {},
   "outputs": [],
   "source": [
    "from sklearn.model_selection import RandomizedSearchCV\n",
    "from sklearn.linear_model import LogisticRegression\n",
    "from sklearn.metrics import roc_curve, auc\n",
    "import numpy as np\n",
    "\n",
    "X_test = X_test_base.copy()\n",
    "X_train_final = X_train_base.copy()\n",
    "\n",
    "for t1, t2 in best_terms:\n",
    "    X_train_final[f'{t1}_{t2}'] = X_train_base[t1] * X_train_base[t2]\n",
    "    X_test[f'{t1}_{t2}'] = X_test_base[t1] * X_test_base[t2]\n",
    "\n",
    "param_dist = {\n",
    "    'C': np.logspace(start=-3, stop=2, num=6),\n",
    "    'penalty': ['l1', 'l2']\n",
    "}\n",
    "\n",
    "random_search = RandomizedSearchCV(\n",
    "    LogisticRegression(random_state=42, solver='liblinear', max_iter=5000),\n",
    "    param_dist,\n",
    "    cv=5,\n",
    "    scoring='recall',\n",
    "    n_iter=6,\n",
    "    n_jobs=-1\n",
    ")\n",
    "\n",
    "random_search.fit(X_train_final, y_train)\n",
    "best_model = random_search.best_estimator_\n",
    "y_pred_proba_test = best_model.predict_proba(X_test)[:, 1]\n",
    "\n",
    "test_data = pd.DataFrame({'target': y_test, 'predicted_probs': y_pred_proba_test})\n",
    "test_data_sorted = test_data.sort_values('predicted_probs', ascending=False)\n",
    "\n",
    "total_pos = test_data_sorted['target'].sum()\n",
    "n_rows = len(test_data_sorted)\n",
    "cutoff_index = int(0.4 * n_rows)\n",
    "lift_at_40 = test_data_sorted.iloc[:cutoff_index]['target'].sum() / total_pos * 100\n",
    "\n",
    "deciles = np.linspace(0, n_rows, 11, dtype=int)\n",
    "lift_curve = [test_data_sorted.iloc[:i]['target'].sum() / total_pos * 100 for i in deciles]\n",
    "baseline = np.linspace(0, 100, 11)\n",
    "\n",
    "fig, (ax1, ax2) = plt.subplots(1, 2, figsize=(15, 6), dpi=300)\n",
    "\n",
    "ax1.plot(baseline, lift_curve, marker='o', label='Lift Curve', color='red', linewidth=2)\n",
    "ax1.plot(baseline, baseline, linestyle='--', marker='o', label='Baseline', color='blue', linewidth=2)\n",
    "ax1.set_xlabel('Percentage of Data', fontsize=12)\n",
    "ax1.set_ylabel('Percentage of Positive Cases', fontsize=12)\n",
    "ax1.set_title(f'Lift Chart\\nPercentage of positive responses captured in top 40% of predictions: {lift_at_40:.2f}%', \n",
    "          fontsize=12, pad=20)\n",
    "ax1.legend(fontsize=10)\n",
    "ax1.grid(True, alpha=0.3)\n",
    "ax1.set_facecolor('white')\n",
    "\n",
    "fpr, tpr, _ = roc_curve(y_test, y_pred_proba_test)\n",
    "roc_auc = auc(fpr, tpr)\n",
    "\n",
    "ax2.plot(fpr, tpr, color='red', linewidth=2, label=f'ROC Curve (AUC = {roc_auc:.2f})')\n",
    "ax2.plot([0, 1], [0, 1], color='blue', linestyle='--', linewidth=2, label='Random')\n",
    "ax2.set_xlabel('False Positive Rate', fontsize=12)\n",
    "ax2.set_ylabel('True Positive Rate', fontsize=12)\n",
    "ax2.set_title('ROC Curve', fontsize=12, pad=20)\n",
    "ax2.legend(fontsize=10)\n",
    "ax2.grid(True, alpha=0.3)\n",
    "ax2.set_facecolor('white')\n",
    "\n",
    "plt.tight_layout()\n",
    "plt.show()"
   ]
  },
  {
   "cell_type": "markdown",
   "metadata": {},
   "source": [
    "If this model were used on in future advertising campaigns assuming that the population of potential customers does not change, we can expect to yield ~60% of the responses by advertising to 40% of the potential customers."
   ]
  },
  {
   "cell_type": "code",
   "execution_count": null,
   "metadata": {},
   "outputs": [],
   "source": [
    "import seaborn as sns\n",
    "import matplotlib.pyplot as plt\n",
    "from scipy.stats import pointbiserialr\n",
    "\n",
    "def make_plot(df, var, ax, threshold=None):\n",
    "    plot_df, corr, p = plot_ratio_positive_negative_with_corr(df, var, 'target')\n",
    "    sns.scatterplot(x=var, y='ratio_positive_negative', data=plot_df, color='blue', s=150, label='Data Points', ax=ax)\n",
    "    \n",
    "    if threshold:\n",
    "        df_below = plot_df[plot_df[var] <= threshold]\n",
    "        df_above = plot_df[plot_df[var] > threshold]\n",
    "        sns.regplot(x=var, y='ratio_positive_negative', data=df_below, scatter=False,\n",
    "                   lowess=True, color='red', line_kws={'lw': 4}, \n",
    "                   label=f'Lowess Smoother (≤{threshold})', ax=ax)\n",
    "        sns.regplot(x=var, y='ratio_positive_negative', data=df_above, scatter=False,\n",
    "                   lowess=True, color='green', line_kws={'lw': 4}, \n",
    "                   label=f'Lowess Smoother (>{threshold})', ax=ax)\n",
    "    else:\n",
    "        sns.regplot(x=var, y='ratio_positive_negative', data=plot_df, scatter=False,\n",
    "                   lowess=True, color='red', line_kws={'lw': 4}, label='Lowess Smoother', ax=ax)\n",
    "    \n",
    "    ax.text(0.05, 0.95, f'Point-Biserial Corr: {corr:.4f}\\nP-Value: {p:.4e}', \n",
    "            transform=ax.transAxes, fontsize=16, bbox=dict(facecolor='white', alpha=0.8))\n",
    "    ax.set_title(f'Ratio of Positive Outcomes by {var.title()}', fontsize=20)\n",
    "    ax.set_xlabel(var.title(), fontsize=16)\n",
    "    ax.set_ylabel('Ratio (Positive / Total)', fontsize=16)\n",
    "    ax.set_ylim(0, 0.50)\n",
    "    ax.legend(fontsize=14)\n",
    "    ax.grid(True)\n",
    "    ax.tick_params(labelsize=14)\n",
    "\n",
    "def plot_ratio_positive_negative_with_corr(df, continuous_var, categorical_var='target', positive_value=1, negative_value=0):\n",
    "    grouped = df.groupby([continuous_var, categorical_var]).size().reset_index(name='count')\n",
    "    pivot = grouped.pivot(index=continuous_var, columns=categorical_var, values='count').fillna(0)\n",
    "    ratio = pivot[positive_value] / (pivot[positive_value] + pivot[negative_value] + 1e-9)\n",
    "    plot_df = pd.DataFrame({continuous_var: ratio.index, 'ratio_positive_negative': ratio.values})\n",
    "    return plot_df, *pointbiserialr(df[continuous_var], df[categorical_var])\n",
    "\n",
    "for var in ['dist', 'income', 'age']:\n",
    "    fig, (ax1, ax2) = plt.subplots(1, 2, figsize=(30, 12))\n",
    "    \n",
    "    men_data = data[data['gender'] == 0]\n",
    "    make_plot(men_data, var, ax1)\n",
    "    ax1.set_title(f'Men: Ratio of Positive Outcomes by {var.title()}', fontsize=20)\n",
    "    \n",
    "    women_data = data[data['gender'] == 1]\n",
    "    make_plot(women_data, var, ax2)\n",
    "    ax2.set_title(f'Women: Ratio of Positive Outcomes by {var.title()}', fontsize=20)\n",
    "    \n",
    "    plt.tight_layout()\n",
    "    plt.show()"
   ]
  },
  {
   "cell_type": "code",
   "execution_count": null,
   "metadata": {},
   "outputs": [],
   "source": [
    "for var in ['dist', 'income', 'age']:\n",
    "    fig, (ax1, ax2) = plt.subplots(1, 2, figsize=(30, 12))\n",
    "    \n",
    "    single_data = data[data['marital_status'] == 0]\n",
    "    make_plot(single_data, var, ax1)\n",
    "    ax1.set_title(f'Single: Ratio of Positive Outcomes by {var.title()}', fontsize=20)\n",
    "    \n",
    "    married_data = data[data['marital_status'] == 1] \n",
    "    make_plot(married_data, var, ax2)\n",
    "    ax2.set_title(f'Married: Ratio of Positive Outcomes by {var.title()}', fontsize=20)\n",
    "    \n",
    "    plt.tight_layout()\n",
    "    plt.show()"
   ]
  },
  {
   "cell_type": "code",
   "execution_count": null,
   "metadata": {},
   "outputs": [],
   "source": [
    "from sklearn.linear_model import LogisticRegression\n",
    "import numpy as np\n",
    "\n",
    "X = data[['dist', 'income', 'age', 'marital_status', 'gender']]\n",
    "y = data['target']\n",
    "\n",
    "model = LogisticRegression(random_state=42, fit_intercept=True)\n",
    "model.fit(X, y)\n",
    "\n",
    "y_pred_proba = model.predict_proba(X)[:, 1]\n",
    "\n",
    "test_data = pd.DataFrame({'target': y, 'predicted_probs': y_pred_proba})\n",
    "test_data_sorted = test_data.sort_values('predicted_probs', ascending=False)\n",
    "\n",
    "total_pos = test_data_sorted['target'].sum()\n",
    "n_rows = len(test_data_sorted)\n",
    "\n",
    "cutoff_index = int(0.4 * n_rows)\n",
    "lift_at_40 = test_data_sorted.iloc[:cutoff_index]['target'].sum() / total_pos * 100\n",
    "\n",
    "deciles = np.linspace(0, n_rows, 11, dtype=int)\n",
    "lift_curve = [test_data_sorted.iloc[:i]['target'].sum() / total_pos * 100 for i in deciles]\n",
    "baseline = np.linspace(0, 100, 11)\n",
    "\n",
    "fig, (ax1, ax2) = plt.subplots(1, 2, figsize=(15, 6), dpi=300)\n",
    "\n",
    "ax1.plot(baseline, lift_curve, marker='o', label='Lift Curve', color='blue', linewidth=2)\n",
    "ax1.plot(baseline, baseline, linestyle='--', label='Baseline', color='gray', linewidth=2)\n",
    "ax1.set_xlabel('Percentage of Data', fontsize=12)\n",
    "ax1.set_ylabel('Percentage of Positive Cases', fontsize=12)\n",
    "ax1.set_title(f'Lift Chart\\nTop 40%: {lift_at_40:.2f}%', fontsize=12, pad=20)\n",
    "ax1.legend(fontsize=10)\n",
    "ax1.grid(True, alpha=0.3)\n",
    "ax1.set_facecolor('white')\n",
    "\n",
    "fpr_men, tpr_men, _ = roc_curve(y[data['gender'] == 0], y_pred_proba[data['gender'] == 0])\n",
    "fpr_women, tpr_women, _ = roc_curve(y[data['gender'] == 1], y_pred_proba[data['gender'] == 1])\n",
    "roc_auc_men = auc(fpr_men, tpr_men)\n",
    "roc_auc_women = auc(fpr_women, tpr_women)\n",
    "\n",
    "ax2.plot(fpr_men, tpr_men, color='blue', linewidth=2, label=f'Men ROC (AUC = {roc_auc_men:.2f})')\n",
    "ax2.plot(fpr_women, tpr_women, color='red', linewidth=2, label=f'Women ROC (AUC = {roc_auc_women:.2f})')\n",
    "ax2.plot([0, 1], [0, 1], color='gray', linestyle='--', linewidth=2, label='Random')\n",
    "ax2.set_xlabel('False Positive Rate', fontsize=12)\n",
    "ax2.set_ylabel('True Positive Rate', fontsize=12)\n",
    "ax2.set_title('ROC Curves by Gender', fontsize=12, pad=20)\n",
    "ax2.legend(fontsize=10)\n",
    "ax2.grid(True, alpha=0.3)\n",
    "ax2.set_facecolor('white')\n",
    "\n",
    "plt.tight_layout()\n",
    "plt.show()\n"
   ]
  }
 ],
 "metadata": {
  "kernelspec": {
   "display_name": "base",
   "language": "python",
   "name": "python3"
  },
  "language_info": {
   "codemirror_mode": {
    "name": "ipython",
    "version": 3
   },
   "file_extension": ".py",
   "mimetype": "text/x-python",
   "name": "python",
   "nbconvert_exporter": "python",
   "pygments_lexer": "ipython3",
   "version": "3.12.2"
  }
 },
 "nbformat": 4,
 "nbformat_minor": 2
}
